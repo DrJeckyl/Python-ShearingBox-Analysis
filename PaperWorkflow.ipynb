{
 "metadata": {
  "name": "",
  "signature": "sha256:d5af0ee9a341c4628b64aa843946d093c75d5585ca4be6c2a0175163b2997088"
 },
 "nbformat": 3,
 "nbformat_minor": 0,
 "worksheets": [
  {
   "cells": [
    {
     "cell_type": "markdown",
     "metadata": {},
     "source": [
      "###Set some flags for which platform this is run on\n",
      "(If on Linux (dorfl), ensure that ipython-notebook is run in bash with canopy running.\n",
      "```\n",
      "ipython notebook --pylab=inline --no-browser\n",
      "```"
     ]
    },
    {
     "cell_type": "code",
     "collapsed": false,
     "input": [
      "import Functions as func\n",
      "func.eta_switch(True) #False sets zero resistivity\n",
      "linux = True\n",
      "windows = False\n",
      "rc('font', **{'family': 'serif', 'serif': ['Computer Modern']})  #Change font formatting for plots\n",
      "rc('text', usetex=True)   #Change font formatting for plots\n",
      "rcParams['text.latex.preamble'].append(r'\\usepackage{bm}')\n",
      "rcParams['text.latex.preamble'].append(r'\\usepackage{lmodern}')"
     ],
     "language": "python",
     "metadata": {},
     "outputs": [],
     "prompt_number": 42
    },
    {
     "cell_type": "markdown",
     "metadata": {},
     "source": [
      "###If on linux machine:"
     ]
    },
    {
     "cell_type": "code",
     "collapsed": false,
     "input": [
      "if linux:\n",
      "    import glob\n",
      "    !cd \"/home/jackelb/Dropbox/ResearchData/Python-ShearingBox-Analysis/\"\n",
      "    dir_path = !pwd\n",
      "    dir_path\n",
      "    data_path = '/home/jackelb/Research/AthenaDumps/AthenaDumps/strat128z4_HF/'\n",
      "    plot_path = '/home/jackelb/Dropbox/ResearchData/Plots/'\n",
      "    time_step = glob.glob(data_path+'*.vtk')\n",
      "    #time_step = data_path + time_step\n",
      "    filein = time_step[1]\n",
      "    print filein"
     ],
     "language": "python",
     "metadata": {},
     "outputs": [
      {
       "output_type": "stream",
       "stream": "stdout",
       "text": [
        "/home/jackelb/Research/AthenaDumps/AthenaDumps/strat128z4_HF/Strat.1231.vtk\n"
       ]
      }
     ],
     "prompt_number": 43
    },
    {
     "cell_type": "markdown",
     "metadata": {},
     "source": [
      "###If on windows:"
     ]
    },
    {
     "cell_type": "code",
     "collapsed": false,
     "input": [
      "if windows:\n",
      "    !setx GPU_MAX_ALLOC_PERCENT 100\n",
      "    data_path = 'D:/Downloads/strat128z4_HF/'\n",
      "    plot_path = 'D:/Dropbox/ResearchData/Plots/'\n",
      "    import glob\n",
      "    time_step = glob.glob(data_path + '*.vtk')\n",
      "    filein = time_step[1]\n",
      "    print filein\n",
      "    #Turn on gpu fft's\n",
      "    #func.gpu_fft_on()\n",
      "    #Turn off gpu fft's\n",
      "    func.gpu_fft_off()"
     ],
     "language": "python",
     "metadata": {},
     "outputs": [],
     "prompt_number": 44
    },
    {
     "cell_type": "code",
     "collapsed": false,
     "input": [
      "time_step"
     ],
     "language": "python",
     "metadata": {},
     "outputs": [
      {
       "metadata": {},
       "output_type": "pyout",
       "prompt_number": 45,
       "text": [
        "['/home/jackelb/Research/AthenaDumps/AthenaDumps/strat128z4_HF/Strat.1230.vtk',\n",
        " '/home/jackelb/Research/AthenaDumps/AthenaDumps/strat128z4_HF/Strat.1231.vtk',\n",
        " '/home/jackelb/Research/AthenaDumps/AthenaDumps/strat128z4_HF/Strat.1232.vtk',\n",
        " '/home/jackelb/Research/AthenaDumps/AthenaDumps/strat128z4_HF/Strat.1233.vtk']"
       ]
      }
     ],
     "prompt_number": 45
    },
    {
     "cell_type": "markdown",
     "metadata": {},
     "source": [
      "###Ok Let's start by reading in the vtk file"
     ]
    },
    {
     "cell_type": "code",
     "collapsed": false,
     "input": [
      "N, D, B, U, rho = func.read_data(filein,dens_inc=True)"
     ],
     "language": "python",
     "metadata": {},
     "outputs": [],
     "prompt_number": 46
    },
    {
     "cell_type": "markdown",
     "metadata": {},
     "source": [
      "This part is hard coded:"
     ]
    },
    {
     "cell_type": "code",
     "collapsed": false,
     "input": [
      "dt = (0.8185432 + 0.8150406)/2.\n",
      "#All the dt's are:\n",
      "# 1230 -> 1231 = 0.8185432\n",
      "# 1231 -> 1232 = 0.8150406\n",
      "# 1232 -> 1233 = 0.8133661\n",
      "dt0 = 0.8185432\n",
      "dt1 = 0.8150406\n",
      "dt2 = 0.8133661\n",
      "z = linspace(-2.,2.,512)\n",
      "k = func.define_k(N,D) #This is a 3D k vector"
     ],
     "language": "python",
     "metadata": {},
     "outputs": [],
     "prompt_number": 47
    },
    {
     "cell_type": "markdown",
     "metadata": {},
     "source": [
      "### Now, take a highpass filter of $\\mathbf{U}$ and $\\mathbf{B}$"
     ]
    },
    {
     "cell_type": "code",
     "collapsed": false,
     "input": [
      "b = func.delta(B)\n",
      "u = func.delta(U)"
     ],
     "language": "python",
     "metadata": {},
     "outputs": [],
     "prompt_number": 48
    },
    {
     "cell_type": "code",
     "collapsed": false,
     "input": [
      "who()"
     ],
     "language": "python",
     "metadata": {},
     "outputs": [
      {
       "output_type": "stream",
       "stream": "stdout",
       "text": [
        "Name                Shape                     Bytes            Type\n",
        "========================================================================\n",
        "\n",
        "diss_s              128 x 512 x 512           134217728        float32\n",
        "hc_yy               128 x 512 x 512           134217728        float32\n",
        "b                   3 x 128 x 512 x 512       402653184        float32\n",
        "h_xx                128 x 512 x 512           134217728        float32\n",
        "diffusion           128 x 512 x 512           134217728        float32\n",
        "JH                  3 x 128 x 512 x 512       402653184        float32\n",
        "h_zz                128 x 512 x 512           134217728        float32\n",
        "hc                  128 x 512 x 512           134217728        float32\n",
        "B                   3 x 128 x 512 x 512       402653184        float32\n",
        "rho                 128 x 512 x 512           134217728        float32\n",
        "h_yy                128 x 512 x 512           134217728        float32\n",
        "hc_xx               128 x 512 x 512           134217728        float32\n",
        "scale_transfer      128 x 512 x 512           134217728        float32\n",
        "Jh                  3 x 128 x 512 x 512       402653184        float32\n",
        "temp                128 x 512 x 512           134217728        float32\n",
        "dH                  128 x 512 x 512           134217728        float32\n",
        "h                   128 x 512 x 512           134217728        float32\n",
        "dh                  128 x 512 x 512           134217728        float32\n",
        "k                   3 x 128 x 512 x 512       402653184        float32\n",
        "divJH               128 x 512 x 512           134217728        float32\n",
        "Hm                  128 x 512 x 512           134217728        float32\n",
        "Hc                  128 x 512 x 512           134217728        float32\n",
        "hc_zz               128 x 512 x 512           134217728        float32\n",
        "U                   3 x 128 x 512 x 512       402653184        float32\n",
        "z                   512                       4096             float64\n",
        "divJh               128 x 512 x 512           134217728        float32\n",
        "hm                  128 x 512 x 512           134217728        float32\n",
        "omega               3 x 128 x 512 x 512       402653184        float32\n",
        "u                   3 x 128 x 512 x 512       402653184        float32\n",
        "\n",
        "Upper bound on total bytes  =       5905584128\n"
       ]
      }
     ],
     "prompt_number": 49
    },
    {
     "cell_type": "markdown",
     "metadata": {},
     "source": [
      "Plot $\\mathbf{B}$ and $\\mathbf{b}$"
     ]
    },
    {
     "cell_type": "code",
     "collapsed": false,
     "input": [
      "fig, axes = subplots(1, 3, figsize=(15, 4))\n",
      "axes[0].plot(z, func.zaverage(B)[0], label=\"$B_x$\")\n",
      "axes[0].plot(z, func.zaverage(b)[0], label=\"$b_x$\")\n",
      "axes[0].set_xlabel('z')\n",
      "axes[0].set_ylabel('$B_x$')\n",
      "axes[0].legend()\n",
      "\n",
      "axes[1].plot(z, func.zaverage(B)[1], label=\"$B_y$\")\n",
      "axes[1].plot(z, func.zaverage(b)[1], label=\"$b_y$\")\n",
      "axes[1].set_xlabel('z')\n",
      "axes[1].set_ylabel('$B_y$')\n",
      "axes[1].legend()\n",
      "\n",
      "axes[2].plot(z, func.zaverage(B)[2], label=\"$B_z$\")\n",
      "axes[2].plot(z, func.zaverage(b)[2], label=\"$b_z$\")\n",
      "axes[2].set_xlabel('z')\n",
      "axes[2].set_ylabel('$B_y$')\n",
      "axes[2].legend()\n",
      "fig.tight_layout()"
     ],
     "language": "python",
     "metadata": {},
     "outputs": [
      {
       "metadata": {},
       "output_type": "display_data",
       "png": "[encoded data removed]",
       "text": [
        "<matplotlib.figure.Figure at 0x3cf0590>"
       ]
      }
     ],
     "prompt_number": 50
    },
    {
     "cell_type": "markdown",
     "metadata": {},
     "source": [
      "Plot $\\mathbf{U}$ and $\\mathbf{u}$"
     ]
    },
    {
     "cell_type": "code",
     "collapsed": false,
     "input": [
      "fig, axes = subplots(1, 3, figsize=(15, 4))\n",
      "axes[0].plot(z, func.zaverage(U)[0], label=\"$U_x$\")\n",
      "axes[0].plot(z, func.zaverage(u)[0], label=\"$u_x$\")\n",
      "axes[0].set_xlabel('z')\n",
      "axes[0].set_ylabel('$U_x$')\n",
      "axes[0].legend()\n",
      "\n",
      "axes[1].plot(z, func.zaverage(U)[1], label=\"$U_y$\")\n",
      "axes[1].plot(z, func.zaverage(u)[1], label=\"$u_y$\")\n",
      "axes[1].set_xlabel('z')\n",
      "axes[1].set_ylabel('$U_y$')\n",
      "axes[1].legend()\n",
      "\n",
      "axes[2].plot(z, func.zaverage(U)[2], label=\"$U_z$\")\n",
      "axes[2].plot(z, func.zaverage(u)[2], label=\"$u_z$\")\n",
      "axes[2].set_xlabel('z')\n",
      "axes[2].set_ylabel('$U_y$')\n",
      "axes[2].legend()\n",
      "fig.tight_layout()"
     ],
     "language": "python",
     "metadata": {},
     "outputs": [
      {
       "metadata": {},
       "output_type": "display_data",
       "png": "[encoded data removed]",
       "text": [
        "<matplotlib.figure.Figure at 0x3706dd0>"
       ]
      }
     ]
    },
    {
     "cell_type": "markdown",
     "metadata": {},
     "source": [
      "### Ok, now some derived quantities:\n",
      "* Magnetic Helicity Flux:\n",
      "$$\\mathbf{J_H} = \\mathbf{A} \\times \\mathbf{E} + \\Phi \\mathbf{B} + \\eta \\mathbf{J} \\times \\mathbf{A}$$ \n",
      "and,\n",
      "$$\\mathbf{J_h} = \\langle \\mathbf{a} \\times \\mathbf{e} \\rangle + \\langle \\phi \\mathbf{b} \\rangle + \\langle \\eta \\mathbf{j} \\times \\mathbf{a} \\rangle$$ "
     ]
    },
    {
     "cell_type": "code",
     "collapsed": false,
     "input": [
      "JH, Jh = func.MagneticHelicityFlux(filein, delt=True)"
     ],
     "language": "python",
     "metadata": {},
     "outputs": []
    },
    {
     "cell_type": "code",
     "collapsed": false,
     "input": [
      "who()"
     ],
     "language": "python",
     "metadata": {},
     "outputs": []
    },
    {
     "cell_type": "markdown",
     "metadata": {},
     "source": [
      "* Now take the divergence,\n",
      "$$ \\nabla \\cdot \\mathbf{J_h}, $$\n",
      "in Fourier space."
     ]
    },
    {
     "cell_type": "code",
     "collapsed": false,
     "input": [
      "divJH = func.ifftvec( 1.j*func.dot_p(k, func.fftvec(JH)))\n",
      "divJh = func.ifftvec( 1.j*func.dot_p(k, func.fftvec(Jh)))"
     ],
     "language": "python",
     "metadata": {},
     "outputs": []
    },
    {
     "cell_type": "markdown",
     "metadata": {},
     "source": [
      "* Calculate the transfer of magnetic helicity between scales,\n",
      "$$ 2 \\langle \\mathbf{B} \\rangle \\cdot \\langle \\mathbf{u} \\times \\mathbf{b} \\rangle_t $$"
     ]
    },
    {
     "cell_type": "code",
     "collapsed": false,
     "input": [
      "scale_transfer = 2. * func.dot_p(func.LargeScale(B), func.LargeScale(func.crossp(u, b)))\n",
      "#scale_transfer = 2. * func.LargeScale(func.dot_p(B, func.crossp(u, b)))"
     ],
     "language": "python",
     "metadata": {},
     "outputs": []
    },
    {
     "cell_type": "markdown",
     "metadata": {},
     "source": [
      "* The current helicity, $\\mathbf{H_c} = \\mathbf{J} \\cdot \\mathbf{B}, $ and $\\mathbf{h_c} = \\langle \\mathbf{j} \\cdot \\mathbf{b} \\rangle $"
     ]
    },
    {
     "cell_type": "code",
     "collapsed": false,
     "input": [
      "Hc, hc = func.CurrentHelicity(filein,delt=True)"
     ],
     "language": "python",
     "metadata": {},
     "outputs": []
    },
    {
     "cell_type": "markdown",
     "metadata": {},
     "source": [
      "* The magnetic helicity, $\\mathbf{H_m} = \\mathbf{A} \\cdot \\mathbf{B}$ and $\\mathbf{h_m} = \\langle \\mathbf{a} \\cdot \\mathbf{b} \\rangle$ \n",
      "* $\\partial_t \\mathbf{H_m}$ and $\\partial_t \\mathbf{h_m}$ as well"
     ]
    },
    {
     "cell_type": "code",
     "collapsed": false,
     "input": [
      "#Actually, calculate 3 different ones from the timesteps available, but we will only store the middle one\n",
      "Hm, hm = func.MagneticHelicity(filein, delt=True)\n",
      "dH, dh = (array(func.MagneticHelicity(time_step[2], delt=True)) - array(func.MagneticHelicity(time_step[0], delt=True)))/2./dt\n",
      "#dH, dh = (-1.5*array(func.MagneticHelicity(data_path+time_step[0], delt=True)) + 2.*array([Hm, hm]) - 0.5*array(func.MagneticHelicity(data_path+time_step[0], delt=True)))/(dt0+dt1+dt2)*3.\n"
     ],
     "language": "python",
     "metadata": {},
     "outputs": []
    },
    {
     "cell_type": "markdown",
     "metadata": {},
     "source": [
      "* The fluid helicity, $h = \\langle \\mathbf{u} \\cdot \\left( \\nabla \\times \\mathbf{u} \\right) \\rangle $ "
     ]
    },
    {
     "cell_type": "code",
     "collapsed": false,
     "input": [
      "#h = func.LargeScale(func.helicity(u,k))\n",
      "omega = func.vorticity(u,k)\n",
      "h = func.LargeScale(func.dot_p(u, omega))"
     ],
     "language": "python",
     "metadata": {},
     "outputs": []
    },
    {
     "cell_type": "markdown",
     "metadata": {},
     "source": [
      "* Component paralell to the EMF,\n",
      "$$ -\\left[ \\langle \\mathbf{j} \\cdot \\mathbf{b} \\rangle + \\langle \\mathbf{u} \\cdot \\left( \\nabla \\times \\mathbf{u} \\right) \\rangle \\right] B^2 $$"
     ]
    },
    {
     "cell_type": "code",
     "collapsed": false,
     "input": [
      "temp = (hc/4./pi/rho + h)*func.dot_p(B-b, B-b)"
     ],
     "language": "python",
     "metadata": {},
     "outputs": []
    },
    {
     "cell_type": "markdown",
     "metadata": {},
     "source": [
      "* Turbulent diffusion term, $\\langle u^2 \\rangle \\langle \\mathbf{J} \\cdot \\mathbf{B} \\rangle $"
     ]
    },
    {
     "cell_type": "code",
     "collapsed": false,
     "input": [
      "#diffusion = func.LargeScale(func.dot_p(u, u) + func.dot_p(b,b)) * func.LargeScale(Hc)\n",
      "diffusion = (func.LargeScale(func.dot_p(u, u))+func.eta()) * func.LargeScale(Hc)"
     ],
     "language": "python",
     "metadata": {},
     "outputs": []
    },
    {
     "cell_type": "markdown",
     "metadata": {},
     "source": [
      "* Resistivity Term, $2 \\eta \\langle \\mathbf{j} \\cdot \\mathbf{b} \\rangle $"
     ]
    },
    {
     "cell_type": "code",
     "collapsed": false,
     "input": [
      "diss_s = 2.*func.eta()*hc"
     ],
     "language": "python",
     "metadata": {},
     "outputs": []
    },
    {
     "cell_type": "heading",
     "level": 3,
     "metadata": {},
     "source": [
      "Small scale magnetic helicity evolution"
     ]
    },
    {
     "cell_type": "code",
     "collapsed": false,
     "input": [
      "fig, axes = subplots(1,1)\n",
      "axes.plot(z, func.zaverage(dh + divJh), label=r\"$\\partial_t h + \\nabla \\cdot \\mathbf{J_h}$\")\n",
      "axes.plot(z, func.zaverage(-scale_transfer + diss_s), label=r\"$-2 \\langle \\mathbf{u} \\times \\mathbf{b} \\rangle \\cdot \\langle \\mathbf{B} \\rangle + 2 \\eta \\langle \\mathbf{j} \\cdot \\mathbf{b} \\rangle$\")\n",
      "axes.set_xlabel('z')\n",
      "leg = axes.legend(loc='upper center', bbox_to_anchor = (0.5, -0.1))\n",
      "leg.get_frame().set_alpha(0.0)\n",
      "savefig(plot_path+\"small_scale_h_evolution.pdf\", bbox_extra_artists=(leg, ), bbox_inches='tight',pad_inches=0,transparent=True)"
     ],
     "language": "python",
     "metadata": {},
     "outputs": []
    },
    {
     "cell_type": "markdown",
     "metadata": {},
     "source": [
      "### Make a plot of the terms which are paralell to the EMF"
     ]
    },
    {
     "cell_type": "markdown",
     "metadata": {},
     "source": [
      "* Here the idea is (from Brandenburg and Subramian 2005):\n",
      "    $$ \\langle \\mathcal{E}  \\rangle \\equiv \\left( \\alpha_K + \\alpha_M \\right) \\langle \\mathbf{B} \\rangle - \\eta_t \\langle \\mathbf{J} \\rangle$$\n",
      "    Find the parallel part to $\\mathbf{B}$ by dotting both sides,\n",
      "    $$ \\langle \\mathcal{E}  \\rangle \\cdot \\langle \\mathbf{B} \\rangle = \\left( \\alpha_M + \\alpha_K \\right) \\langle B^2 \\rangle - \\eta_t \\langle \\mathbf{J} \\cdot \\mathbf{B} \\rangle $$,\n",
      "    here, $\\alpha_K$ and $\\alpha_M$ are the kinetic and magnetic $\\alpha$ effect respectively. These are given by,\n",
      "    $$\\alpha_M = \\frac{1}{3} \\tau \\langle \\mathbf{j} \\cdot \\mathbf{b} \\rangle$$ and,\n",
      "    $$\\alpha_K = -\\frac{1}{3} \\tau \\langle \\left( \\nabla \\times \\mathbf{u} \\right) \\cdot \\mathbf{u} \\rangle = -\\frac{1}{3} \\tau \\langle \\omega \\cdot \\mathbf{u} \\rangle$$\n",
      "    \n",
      "    The turbulent diffusion is defined as,\n",
      "    $\\eta_t = \\frac{1}{3} \\tau u^2_{rms}$"
     ]
    },
    {
     "cell_type": "code",
     "collapsed": false,
     "input": [
      "fig, axes = subplots(1,1)\n",
      "axes.plot(z, -func.zaverage(func.LargeScale(scale_transfer/2.)), label=r\"$\\langle \\mathbf{u} \\times \\mathbf{b} \\rangle \\cdot \\langle \\mathbf{B} \\rangle$\")\n",
      "axes.plot(z, func.zaverage(temp-diffusion), label=r\"$\\left[ -\\langle \\mathbf{j} \\cdot \\mathbf{b} \\rangle - \\langle \\mathbf{u} \\cdot \\left( \\nabla \\times \\mathbf{u} \\right) \\rangle \\right] B^2 - \\langle u^2 \\rangle \\langle \\mathbf{J} \\cdot \\mathbf{B} \\rangle$\")\n",
      "axes.set_xlabel('z')\n",
      "leg = axes.legend(loc='upper center', bbox_to_anchor = (0.5, -0.1))\n",
      "leg.get_frame().set_alpha(0.0)\n",
      "savefig(plot_path+\"emf_helicity_compare.pdf\", bbox_extra_artists=(leg, ), bbox_inches='tight',pad_inches=0,transparent=True)"
     ],
     "language": "python",
     "metadata": {},
     "outputs": []
    },
    {
     "cell_type": "markdown",
     "metadata": {},
     "source": [
      "### Compare the Current and Magnetic Helicities"
     ]
    },
    {
     "cell_type": "code",
     "collapsed": false,
     "input": [
      "fig, axes = subplots(1,1)\n",
      "axes.plot(z,func.zaverage(hm)*max(func.zaverage(hc))/max(func.zaverage(hm)), label=r'$\\langle \\mathbf{a} \\cdot \\mathbf{b} \\rangle$')\n",
      "axes.plot(z,func.zaverage(hc), label=r'$\\langle \\mathbf{j} \\cdot \\mathbf{b} \\rangle$')\n",
      "axes.set_xlabel('z')\n",
      "leg = axes.legend(loc='upper center', bbox_to_anchor = (0.5, -0.1))\n",
      "leg.get_frame().set_alpha(0.0)\n",
      "savefig(plot_path+\"helicity_compare.pdf\", bbox_extra_artists=(leg, ), bbox_inches='tight',pad_inches=0,transparent=True)"
     ],
     "language": "python",
     "metadata": {},
     "outputs": []
    },
    {
     "cell_type": "markdown",
     "metadata": {},
     "source": [
      "### Current Helicity anisotropy"
     ]
    },
    {
     "cell_type": "markdown",
     "metadata": {},
     "source": [
      "$$\\alpha^M_{ik} = \\epsilon_{ist} b_s \\partial_k b_t$$\n",
      "\n",
      "$\\begin{bmatrix}\n",
      "\\alpha_{11} & \\alpha_{12} & \\alpha_{13} \\\\\n",
      "\\alpha_{21} & \\alpha_{22} & \\alpha_{23} \\\\\n",
      "\\alpha_{31} & \\alpha_{32} & \\alpha_{33} \\\\\n",
      "\\end{bmatrix} \n",
      "= \n",
      "\\begin{bmatrix}\n",
      "\\epsilon_{1st} b_s \\partial_1 b_t & \\epsilon_{1st} b_s \\partial_2 b_t & \\epsilon_{1st} b_s \\partial_3 b_t \\\\\n",
      "\\epsilon_{2st} b_s \\partial_1 b_t& \\epsilon_{2st} b_s \\partial_2 b_t & \\epsilon_{2st} b_s \\partial_3 b_t \\\\\n",
      "\\epsilon_{3st} b_s \\partial_1 b_t& \\epsilon_{3st} b_s \\partial_2 b_t & \\epsilon_{3st} b_s \\partial_3 b_t \\\\\n",
      "\\end{bmatrix}\n",
      "=\n",
      "\\begin{bmatrix}\n",
      "b_2 \\partial_1 b_3 - b_3 \\partial_1 b_2 & b_2 \\partial_2 b_3 - b_3 \\partial_2 b_2 & b_2 \\partial_3 b_3 - b_3 \\partial_3 b_2 \\\\\n",
      "b_3 \\partial_1 b_1 - b_1 \\partial_1 b_3 & b_3 \\partial_2 b_1 - b_1 \\partial_2 b_3 & b_3 \\partial_3 b_1 - b_1 \\partial_3 b_3 \\\\\n",
      "b_1 \\partial_1 b_2 - b_2 \\partial_1 b_1 & b_1 \\partial_2 b_2 - b_2 \\partial_2 b_1 & b_1 \\partial_3 b_2 - b_2 \\partial_3 b_1\n",
      "\\end{bmatrix}\n",
      "$\n",
      "\n",
      "#### Therefor,\n",
      "$$\\alpha^M_{xx} = b_y \\partial_x b_z - b_z \\partial_x b_y $$\n",
      "$$\\alpha^M_{yy} = b_z \\partial_y b_x - b_x \\partial_y b_z $$\n",
      "$$\\alpha^M_{zz} = b_x \\partial_z b_y - b_y \\partial_z b_x $$\n",
      "\n"
     ]
    },
    {
     "cell_type": "markdown",
     "metadata": {},
     "source": [
      "$$\\alpha^K_{ik} = \\epsilon_{ist} u_s \\partial_k u_t$$\n",
      "\n",
      "$\\begin{bmatrix}\n",
      "\\alpha_{11} & \\alpha_{12} & \\alpha_{13} \\\\\n",
      "\\alpha_{21} & \\alpha_{22} & \\alpha_{23} \\\\\n",
      "\\alpha_{31} & \\alpha_{32} & \\alpha_{33} \\\\\n",
      "\\end{bmatrix} = \n",
      "\\begin{bmatrix}\n",
      "\\epsilon_{1st} u_s \\partial_1 u_t & \\epsilon_{1st} u_s \\partial_2 u_t & \\epsilon_{1st} u_s \\partial_3 u_t \\\\\n",
      "\\epsilon_{2st} u_s \\partial_1 u_t& \\epsilon_{2st} u_s \\partial_2 u_t & \\epsilon_{2st} u_s \\partial_3 u_t \\\\\n",
      "\\epsilon_{3st} u_s \\partial_1 u_t& \\epsilon_{3st} u_s \\partial_2 u_t & \\epsilon_{3st} u_s \\partial_3 u_t \\\\\n",
      "\\end{bmatrix}\n",
      "$\n",
      "$$\\alpha^K_{xx} = u_y \\partial_x u_z - u_z \\partial_x u_y $$\n",
      "$$\\alpha^K_{yy} = u_z \\partial_y u_x - u_x \\partial_y u_z $$\n",
      "$$\\alpha^K_{zz} = u_x \\partial_z u_y - u_y \\partial_z u_x $$"
     ]
    },
    {
     "cell_type": "markdown",
     "metadata": {},
     "source": [
      "### Levi-cevita symbol:\n",
      "\n",
      "$\\epsilon_{ijk} = \\left\\{ \\begin{matrix}\n",
      "+1 & \\text{if $(i,j,k)$ is $(1,2,3)$, $(3,1,2)$, or $(2,3,1)$} \\\\\n",
      "-1 & \\text{if $(i,j,k)$ is $(1,3,2)$, $(3,2,1)$, or $(2,1,3)$} \\\\\n",
      "0 & \\text{if $i=j$, $i=k$, or $j=k$}\n",
      "\\end{matrix} \\right.$"
     ]
    },
    {
     "cell_type": "code",
     "collapsed": false,
     "input": [
      "hc_xx = func.LargeScale(b[1]*func.ifftvec(1.j*k[0]*func.fftvec(b[2])) - b[2]*func.ifftvec(1.j*k[0]*func.fftvec(b[1])))\n",
      "hc_yy = func.LargeScale(b[2]*func.ifftvec(1.j*k[1]*func.fftvec(b[0])) - b[0]*func.ifftvec(1.j*k[1]*func.fftvec(b[2])))\n",
      "hc_zz = func.LargeScale(b[0]*func.ifftvec(1.j*k[2]*func.fftvec(b[1])) - b[1]*func.ifftvec(1.j*k[2]*func.fftvec(b[0])))"
     ],
     "language": "python",
     "metadata": {},
     "outputs": []
    },
    {
     "cell_type": "code",
     "collapsed": false,
     "input": [
      "fig, axes = subplots(1, 1)\n",
      "axes.plot(z, func.zaverage(hc_xx), label=r\"$b_y \\partial_x b_z - b_z \\partial_x b_y$\")\n",
      "axes.plot(z, func.zaverage(hc_yy), label=r\"$ b_z \\partial_y b_x - b_x \\partial_y b_z$\")\n",
      "axes.plot(z, func.zaverage(hc_zz), label=r\"$b_x \\partial_z b_y - b_y \\partial_z b_x$\")\n",
      "axes.set_xlabel('z')\n",
      "leg = axes.legend(loc='upper center', bbox_to_anchor = (0.5, -0.1))\n",
      "leg.get_frame().set_alpha(0.0)\n",
      "fig.tight_layout()\n",
      "savefig(plot_path+\"current_helicity_anisotropy.pdf\", bbox_extra_artists=(leg, ), bbox_inches='tight',pad_inches=0,transparent=True)"
     ],
     "language": "python",
     "metadata": {},
     "outputs": []
    },
    {
     "cell_type": "markdown",
     "metadata": {},
     "source": [
      "### Fluid Helcity anisotropy"
     ]
    },
    {
     "cell_type": "code",
     "collapsed": false,
     "input": [
      "h_xx = func.LargeScale(u[1]*func.ifftvec(1.j*k[0]*func.fftvec(u[2])) - u[2]*func.ifftvec(1.j*k[0]*func.fftvec(u[1])))\n",
      "h_yy = func.LargeScale(u[2]*func.ifftvec(1.j*k[1]*func.fftvec(u[0])) - u[0]*func.ifftvec(1.j*k[1]*func.fftvec(u[2])))\n",
      "h_zz = func.LargeScale(u[0]*func.ifftvec(1.j*k[2]*func.fftvec(u[1])) - u[1]*func.ifftvec(1.j*k[2]*func.fftvec(u[0])))"
     ],
     "language": "python",
     "metadata": {},
     "outputs": []
    },
    {
     "cell_type": "code",
     "collapsed": false,
     "input": [
      "fig, axes = subplots(1, 1)\n",
      "axes.plot(z, func.zaverage(h_xx), label=r\"$u_y \\partial_x u_z - u_z \\partial_x u_y$\")\n",
      "axes.plot(z, func.zaverage(h_yy), label=r\"$u_z \\partial_y u_x - u_x \\partial_y u_z$\")\n",
      "axes.plot(z, func.zaverage(h_zz), label=r\"$u_x \\partial_z u_y - u_y \\partial_z u_x$\")\n",
      "axes.set_xlabel('z')\n",
      "leg = axes.legend(loc='upper center', bbox_to_anchor = (0.5, -0.1))\n",
      "leg.get_frame().set_alpha(0.0)\n",
      "fig.tight_layout()\n",
      "savefig(plot_path+\"fluid_helicity_anisotropy.pdf\", bbox_extra_artists=(leg, ), bbox_inches='tight',pad_inches=0,transparent=True)"
     ],
     "language": "python",
     "metadata": {},
     "outputs": []
    },
    {
     "cell_type": "code",
     "collapsed": false,
     "input": [],
     "language": "python",
     "metadata": {},
     "outputs": []
    },
    {
     "cell_type": "code",
     "collapsed": false,
     "input": [
      "fig = figure()\n",
      "fig.set_size_inches(5,6)\n",
      "gs = GridSpec(3,3)\n",
      "gs.update(hspace=0.0)\n",
      "ax1 = subplot(gs[0:2,:])\n",
      "ax1.plot(z, func.zaverage(hc_xx)*1e8, label=r\"$\\alpha_{xx}^M$\")\n",
      "ax1.plot(z, func.zaverage(-hc/3.)*1e8, label=r\"$-\\frac{1}{3}\\bm{j \\cdot b}$\")\n",
      "xticks(())\n",
      "ylabel(r\"$[10^{-8}]$\")\n",
      "axis('tight')\n",
      "ax2 = subplot(gs[-1,:])\n",
      "ax2.plot(z, func.zaverage(-hc/3. - hc_xx)*1e8, label=r\"$-\\frac{\\bm{j \\cdot b}}{3} - \\alpha_{xx}^M$\")\n",
      "ylabel(r\"$-\\frac{\\bm{\\langle j \\cdot b \\rangle}}{3} - \\alpha_{xx}^M \\; [10^{-8}]$\")\n",
      "ticklabel_format(useOffset=False)\n",
      "axis('tight')\n",
      "ax2.set_xlabel('z')\n",
      "ax1.legend(loc='upper center').get_frame().set_alpha(0.0)\n",
      "savefig(plot_path+\"alpha_M_xx_anisotropy.pdf\",pad_inches=0.1,transparent=True)"
     ],
     "language": "python",
     "metadata": {},
     "outputs": []
    },
    {
     "cell_type": "code",
     "collapsed": false,
     "input": [],
     "language": "python",
     "metadata": {},
     "outputs": []
    },
    {
     "cell_type": "code",
     "collapsed": false,
     "input": [
      "fig, axes = subplots(1, 1)\n",
      "axes.plot(z, func.zaverage(hc_zz))\n",
      "axes.plot(z, func.zaverage(-hc/3.))\n",
      "axes.set_xlabel('z')\n",
      "fig.tight_layout()"
     ],
     "language": "python",
     "metadata": {},
     "outputs": []
    },
    {
     "cell_type": "markdown",
     "metadata": {},
     "source": [
      "Calculate instead:\n",
      "\n",
      "\n",
      "$\\alpha^K_{yy}$ and $\\alpha^M_{yy}$ in place of $\\mathbf{j \\cdot b}$ and $\\mathbf{u \\cdot (\\nabla \\times u)}$\n",
      "\n",
      "Similarily, $\\langle u^2 \\rangle$ is replaced with $\\langle u_z^2 \\rangle$"
     ]
    },
    {
     "cell_type": "code",
     "collapsed": false,
     "input": [
      "temp = -(hc_yy/4./pi/rho - h_yy)*func.dot_p(B-b, B-b)"
     ],
     "language": "python",
     "metadata": {},
     "outputs": []
    },
    {
     "cell_type": "code",
     "collapsed": false,
     "input": [
      "diffusion = (func.LargeScale(u[2]*u[2])+func.eta()) * func.LargeScale(Hc)\n",
      "#diffusion = (func.LargeScale(u[2]*u[2]) + func.LargeScale(b[2]*b[2])/3.) * func.LargeScale(Hc)\n"
     ],
     "language": "python",
     "metadata": {},
     "outputs": []
    },
    {
     "cell_type": "code",
     "collapsed": false,
     "input": [
      "fig, axes = subplots(1,1)\n",
      "axes.plot(z, func.zaverage(func.LargeScale(scale_transfer/2.))/9., label=r\"$\\langle \\langle \\mathbf{u} \\times \\mathbf{b} \\rangle \\cdot \\langle \\mathbf{B} \\rangle \\rangle $\")\n",
      "axes.plot(z, func.zaverage(temp - diffusion), label=r\"$\\left[ -\\langle b_z \\partial_y b_x - b_x \\partial_y b_z \\rangle / 4 \\pi \\rho + \\langle u_z \\partial_y u_x - u_x \\partial_y u_z \\rangle \\right] \\langle B \\rangle^2 - \\langle u_z^2 \\rangle \\langle \\mathbf{J} \\cdot \\mathbf{B} \\rangle$\")\n",
      "axes.set_xlabel('z')\n",
      "leg = axes.legend(loc='upper center', bbox_to_anchor = (0.5, -0.1))\n",
      "leg.get_frame().set_alpha(0.0)\n",
      "savefig(plot_path+\"emf_helicity_compare_yy.pdf\", bbox_extra_artists=(leg, ), bbox_inches='tight',pad_inches=0,transparent=True)"
     ],
     "language": "python",
     "metadata": {},
     "outputs": []
    },
    {
     "cell_type": "markdown",
     "metadata": {},
     "source": [
      "Ethan has suggested that:\n",
      "\n",
      "$ \\langle B \\rangle^2$ should be $\\langle B_y \\rangle^2 $\n",
      "\n",
      "and\n",
      "\n",
      "$ \\mathbf{J \\cdot B} $ should be $ (\\partial_z \\langle B_x \\rangle) \\langle B_y \\rangle$"
     ]
    },
    {
     "cell_type": "code",
     "collapsed": false,
     "input": [
      "#$ \\mathbf{J \\cdot B} $ should be $ (\\partial_z \\langle B_y \\rangle) \\langle B_y \\rangle$ -- corrected through discussion with Ethan"
     ],
     "language": "python",
     "metadata": {},
     "outputs": []
    },
    {
     "cell_type": "code",
     "collapsed": false,
     "input": [
      "temp = (hc_yy/4./pi/rho - h_yy)*(B-b)[1]**2"
     ],
     "language": "python",
     "metadata": {},
     "outputs": []
    },
    {
     "cell_type": "code",
     "collapsed": false,
     "input": [
      "diffusion = (func.LargeScale(u[2]*u[2])+func.eta()) * func.LargeScale(func.ifftvec(1.j * k[2] * func.fftvec(B[0]))) * (B-b)[1]\n",
      "#diffusion = (func.LargeScale(u[2]*u[2]) + func.LargeScale(b[2]*b[2])/3.) * func.LargeScale(Hc)"
     ],
     "language": "python",
     "metadata": {},
     "outputs": []
    },
    {
     "cell_type": "code",
     "collapsed": false,
     "input": [
      "fig, axes = subplots(1,1)\n",
      "axes.plot(z, func.zaverage(func.LargeScale(scale_transfer/2.))/max(func.zaverage(scale_transfer/2.))*max(func.zaverage(temp-diffusion)), label=r\"$\\langle \\langle \\mathbf{u} \\times \\mathbf{b} \\rangle \\cdot \\langle \\mathbf{B} \\rangle \\rangle $\")\n",
      "#axes.plot(z, func.zaverage(func.LargeScale(scale_transfer/2.))/509., label=r\"$\\langle \\langle \\mathbf{u} \\times \\mathbf{b} \\rangle \\cdot \\langle \\mathbf{B} \\rangle \\rangle $\")\n",
      "axes.plot(z, func.zaverage(func.LargeScale(temp - diffusion)), label=r\"$-\\left[ \\langle b_z \\partial_y b_x - b_x \\partial_y b_z \\rangle / 4 \\pi \\rho - \\langle u_z \\partial_y u_x - u_x \\partial_y u_z \\rangle \\right] \\langle B_y \\rangle^2 - \\langle u_z^2 \\rangle \\langle ( \\partial_z B_x)\\rangle \\langle B_y \\rangle$\")\n",
      "axes.set_xlabel('z')\n",
      "leg = axes.legend(loc='upper center', bbox_to_anchor = (0.5, -0.1))\n",
      "leg.get_frame().set_alpha(0.0)\n",
      "savefig(plot_path+\"emf_helicity_compare_yy.pdf\", bbox_extra_artists=(leg, ), bbox_inches='tight',pad_inches=0,transparent=True)"
     ],
     "language": "python",
     "metadata": {},
     "outputs": []
    },
    {
     "cell_type": "code",
     "collapsed": false,
     "input": [
      "1./(max(func.zaverage(temp-diffusion))/max(func.zaverage(scale_transfer/2.)))"
     ],
     "language": "python",
     "metadata": {},
     "outputs": []
    },
    {
     "cell_type": "markdown",
     "metadata": {},
     "source": [
      "Next up, I will plot the individual components"
     ]
    },
    {
     "cell_type": "code",
     "collapsed": false,
     "input": [
      "fig, axes = subplots(1,1)\n",
      "#axes.plot(z, func.zaverage(func.LargeScale(scale_transfer/2.))/9., label=r\"$\\langle \\langle \\mathbf{u} \\times \\mathbf{b} \\rangle \\cdot \\langle \\mathbf{B} \\rangle \\rangle $\")\n",
      "axes.plot(z, func.zaverage(hc_yy/4./pi/rho*(B-b)[1]*(B-b)[1]), label=r\"$\\mathbf{\\alpha_{yy}^M} \\langle B_y \\rangle^2 $\")\n",
      "axes.plot(z, func.zaverage(h_yy*(B-b)[1]*(B-b)[1]), label=r\"$\\mathbf{\\alpha_{yy}^K} \\langle B_y \\rangle^2 $\")\n",
      "axes.plot(z, func.zaverage(diffusion), label=r\"$-\\langle u_z^2 ( \\partial_z \\langle B_x \\rangle )\\rangle \\langle B_y \\rangle$\")\n",
      "axes.set_xlabel('z')\n",
      "leg = axes.legend(loc='upper center', bbox_to_anchor = (0.5, -0.1))\n",
      "leg.get_frame().set_alpha(0.0)\n",
      "savefig(plot_path+\"emf_helicity_components.pdf\", bbox_extra_artists=(leg, ), bbox_inches='tight',pad_inches=0,transparent=True)"
     ],
     "language": "python",
     "metadata": {},
     "outputs": []
    },
    {
     "cell_type": "markdown",
     "metadata": {},
     "source": [
      "Next, thinking about the signs more:\n",
      "$$\\alpha^M \\equiv \\mathbf{\\langle j \\cdot b \\rangle} $$\n",
      "and\n",
      "$$\\alpha^K \\equiv -\\mathbf{\\langle \\omega \\cdot u \\rangle}$$\n",
      "\n",
      "The EMF is then,\n",
      "$$\\mathbf{\\langle \\mathcal{E} \\rangle \\cdot \\langle B \\rangle} = \\left( \\alpha^M - \\alpha^K \\right) \\langle B \\rangle^2 - \\eta_t \\mathbf{\\langle J \\cdot B \\rangle}$$\n",
      "\n",
      "The correct signs are then:\n",
      "$$\\mathbf{\\langle \\mathcal{E} \\rangle \\cdot \\langle B \\rangle} = \\left(\\mathbf{\\langle j \\cdot b \\rangle} - \\mathbf{\\langle \\omega \\cdot u \\rangle} \\right) \\langle B \\rangle^2 - \\eta_t \\mathbf{\\langle J \\cdot B \\rangle}$$\n",
      "or,\n",
      "$$\\mathbf{\\langle \\mathcal{E} \\rangle \\cdot \\langle B \\rangle} = \\left( h_c - h \\right) \\langle B \\rangle^2 - \\eta_t \\mathbf{\\langle J \\cdot B \\rangle}$$\n",
      "and the azimuthal one,\n",
      "$$\\mathbf{\\langle \\mathcal{E} \\rangle \\cdot \\langle B \\rangle} =\n",
      "\\left( \n",
      "\\langle b_z \\partial_y b_x - b_x \\partial_y b_z \\rangle / 4 \\pi \\rho \n",
      "-\\langle u_z \\partial_y u_x - u_x \\partial_y u_z \\rangle \n",
      "\\right)\n",
      "\\langle B_y \\rangle^2 \n",
      "-\\langle u^2_z \\rangle \\langle (\\partial_z B_x) \\rangle \\langle B_y \\rangle  $$"
     ]
    },
    {
     "cell_type": "code",
     "collapsed": false,
     "input": [],
     "language": "python",
     "metadata": {},
     "outputs": []
    },
    {
     "cell_type": "code",
     "collapsed": false,
     "input": [],
     "language": "python",
     "metadata": {},
     "outputs": []
    },
    {
     "cell_type": "code",
     "collapsed": false,
     "input": [],
     "language": "python",
     "metadata": {},
     "outputs": []
    },
    {
     "cell_type": "code",
     "collapsed": false,
     "input": [],
     "language": "python",
     "metadata": {},
     "outputs": []
    },
    {
     "cell_type": "code",
     "collapsed": false,
     "input": [],
     "language": "python",
     "metadata": {},
     "outputs": []
    },
    {
     "cell_type": "code",
     "collapsed": false,
     "input": [],
     "language": "python",
     "metadata": {},
     "outputs": []
    },
    {
     "cell_type": "code",
     "collapsed": false,
     "input": [],
     "language": "python",
     "metadata": {},
     "outputs": []
    },
    {
     "cell_type": "code",
     "collapsed": false,
     "input": [],
     "language": "python",
     "metadata": {},
     "outputs": []
    }
   ],
   "metadata": {}
  }
 ]
}